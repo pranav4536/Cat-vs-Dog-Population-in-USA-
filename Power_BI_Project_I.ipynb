{
  "nbformat": 4,
  "nbformat_minor": 0,
  "metadata": {
    "colab": {
      "provenance": [],
      "authorship_tag": "ABX9TyPirjiBNP8Xi2fsrOQEzqqY",
      "include_colab_link": true
    },
    "kernelspec": {
      "name": "python3",
      "display_name": "Python 3"
    },
    "language_info": {
      "name": "python"
    }
  },
  "cells": [
    {
      "cell_type": "markdown",
      "metadata": {
        "id": "view-in-github",
        "colab_type": "text"
      },
      "source": [
        "<a href=\"https://colab.research.google.com/github/pranav4536/Cat-vs-Dog-Population-in-USA-/blob/main/Power_BI_Project_I.ipynb\" target=\"_parent\"><img src=\"https://colab.research.google.com/assets/colab-badge.svg\" alt=\"Open In Colab\"/></a>"
      ]
    },
    {
      "cell_type": "markdown",
      "source": [
        "## **Power BI Project-I**\n",
        "\n",
        "1. Cat vs Dog Popularity in the U.S.\n",
        "\n"
      ],
      "metadata": {
        "id": "Tp7fZYMgr7Ze"
      }
    },
    {
      "cell_type": "markdown",
      "source": [
        "1. **Cat vs Dog Popularity in the U.S.**\n",
        "\n",
        "  * Drive Links--->https://www.novypro.com/project/cat-vs-dog-popularity-in-the-us-3"
      ],
      "metadata": {
        "id": "85fC05nrS1Ck"
      }
    }
  ]
}